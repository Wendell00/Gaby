{
  "nbformat": 4,
  "nbformat_minor": 0,
  "metadata": {
    "colab": {
      "provenance": []
    },
    "kernelspec": {
      "name": "python3",
      "display_name": "Python 3"
    },
    "language_info": {
      "name": "python"
    }
  },
  "cells": [
    {
      "cell_type": "code",
      "execution_count": 13,
      "metadata": {
        "colab": {
          "base_uri": "https://localhost:8080/"
        },
        "id": "fok7d2zCqvnd",
        "outputId": "31452f75-1ca3-4785-b365-4aff40c2844f"
      },
      "outputs": [
        {
          "output_type": "stream",
          "name": "stdout",
          "text": [
            "Requirement already satisfied: transformers in /usr/local/lib/python3.10/dist-packages (4.41.1)\n",
            "Requirement already satisfied: filelock in /usr/local/lib/python3.10/dist-packages (from transformers) (3.14.0)\n",
            "Requirement already satisfied: huggingface-hub<1.0,>=0.23.0 in /usr/local/lib/python3.10/dist-packages (from transformers) (0.23.1)\n",
            "Requirement already satisfied: numpy>=1.17 in /usr/local/lib/python3.10/dist-packages (from transformers) (1.25.2)\n",
            "Requirement already satisfied: packaging>=20.0 in /usr/local/lib/python3.10/dist-packages (from transformers) (24.0)\n",
            "Requirement already satisfied: pyyaml>=5.1 in /usr/local/lib/python3.10/dist-packages (from transformers) (6.0.1)\n",
            "Requirement already satisfied: regex!=2019.12.17 in /usr/local/lib/python3.10/dist-packages (from transformers) (2024.5.15)\n",
            "Requirement already satisfied: requests in /usr/local/lib/python3.10/dist-packages (from transformers) (2.31.0)\n",
            "Requirement already satisfied: tokenizers<0.20,>=0.19 in /usr/local/lib/python3.10/dist-packages (from transformers) (0.19.1)\n",
            "Requirement already satisfied: safetensors>=0.4.1 in /usr/local/lib/python3.10/dist-packages (from transformers) (0.4.3)\n",
            "Requirement already satisfied: tqdm>=4.27 in /usr/local/lib/python3.10/dist-packages (from transformers) (4.66.4)\n",
            "Requirement already satisfied: fsspec>=2023.5.0 in /usr/local/lib/python3.10/dist-packages (from huggingface-hub<1.0,>=0.23.0->transformers) (2023.6.0)\n",
            "Requirement already satisfied: typing-extensions>=3.7.4.3 in /usr/local/lib/python3.10/dist-packages (from huggingface-hub<1.0,>=0.23.0->transformers) (4.11.0)\n",
            "Requirement already satisfied: charset-normalizer<4,>=2 in /usr/local/lib/python3.10/dist-packages (from requests->transformers) (3.3.2)\n",
            "Requirement already satisfied: idna<4,>=2.5 in /usr/local/lib/python3.10/dist-packages (from requests->transformers) (3.7)\n",
            "Requirement already satisfied: urllib3<3,>=1.21.1 in /usr/local/lib/python3.10/dist-packages (from requests->transformers) (2.0.7)\n",
            "Requirement already satisfied: certifi>=2017.4.17 in /usr/local/lib/python3.10/dist-packages (from requests->transformers) (2024.2.2)\n",
            "Requirement already satisfied: spotipy in /usr/local/lib/python3.10/dist-packages (2.24.0)\n",
            "Requirement already satisfied: redis>=3.5.3 in /usr/local/lib/python3.10/dist-packages (from spotipy) (5.0.4)\n",
            "Requirement already satisfied: requests>=2.25.0 in /usr/local/lib/python3.10/dist-packages (from spotipy) (2.31.0)\n",
            "Requirement already satisfied: urllib3>=1.26.0 in /usr/local/lib/python3.10/dist-packages (from spotipy) (2.0.7)\n",
            "Requirement already satisfied: async-timeout>=4.0.3 in /usr/local/lib/python3.10/dist-packages (from redis>=3.5.3->spotipy) (4.0.3)\n",
            "Requirement already satisfied: charset-normalizer<4,>=2 in /usr/local/lib/python3.10/dist-packages (from requests>=2.25.0->spotipy) (3.3.2)\n",
            "Requirement already satisfied: idna<4,>=2.5 in /usr/local/lib/python3.10/dist-packages (from requests>=2.25.0->spotipy) (3.7)\n",
            "Requirement already satisfied: certifi>=2017.4.17 in /usr/local/lib/python3.10/dist-packages (from requests>=2.25.0->spotipy) (2024.2.2)\n",
            "Requirement already satisfied: lyricsgenius in /usr/local/lib/python3.10/dist-packages (3.0.1)\n",
            "Requirement already satisfied: beautifulsoup4>=4.6.0 in /usr/local/lib/python3.10/dist-packages (from lyricsgenius) (4.12.3)\n",
            "Requirement already satisfied: requests>=2.20.0 in /usr/local/lib/python3.10/dist-packages (from lyricsgenius) (2.31.0)\n",
            "Requirement already satisfied: soupsieve>1.2 in /usr/local/lib/python3.10/dist-packages (from beautifulsoup4>=4.6.0->lyricsgenius) (2.5)\n",
            "Requirement already satisfied: charset-normalizer<4,>=2 in /usr/local/lib/python3.10/dist-packages (from requests>=2.20.0->lyricsgenius) (3.3.2)\n",
            "Requirement already satisfied: idna<4,>=2.5 in /usr/local/lib/python3.10/dist-packages (from requests>=2.20.0->lyricsgenius) (3.7)\n",
            "Requirement already satisfied: urllib3<3,>=1.21.1 in /usr/local/lib/python3.10/dist-packages (from requests>=2.20.0->lyricsgenius) (2.0.7)\n",
            "Requirement already satisfied: certifi>=2017.4.17 in /usr/local/lib/python3.10/dist-packages (from requests>=2.20.0->lyricsgenius) (2024.2.2)\n"
          ]
        }
      ],
      "source": [
        "!pip install transformers\n",
        "!pip install spotipy\n",
        "!pip install lyricsgenius"
      ]
    },
    {
      "cell_type": "code",
      "source": [
        "import spotipy\n",
        "from spotipy.oauth2 import SpotifyClientCredentials\n",
        "import lyricsgenius\n",
        "from transformers import BertTokenizer, BertForSequenceClassification\n",
        "from transformers import pipeline\n",
        "import torch"
      ],
      "metadata": {
        "id": "bRomJ86qq8Qw"
      },
      "execution_count": 12,
      "outputs": []
    },
    {
      "cell_type": "code",
      "source": [
        "spotify_client_id = 'c7e26856bb5d4430b2681da841f04002'\n",
        "spotify_client_secret = '23cb3f88565a477182d36880596820bb'\n",
        "\n",
        "genius_access_token = 'u3oyNBP3IiXfHAksSzWEd-pkHot_lndqB6664h4Pf_tDKxv7IZvJD7ykS2z8Dnlk'\n",
        "\n",
        "\n",
        "sp = spotipy.Spotify(auth_manager=SpotifyClientCredentials(client_id=spotify_client_id,\n",
        "                                                           client_secret=spotify_client_secret))\n",
        "\n",
        "genius = lyricsgenius.Genius(genius_access_token)"
      ],
      "metadata": {
        "id": "E-cp_dVvrNfe"
      },
      "execution_count": 3,
      "outputs": []
    },
    {
      "cell_type": "code",
      "source": [
        "def get_lyrics(artist_name, track_name):\n",
        "    try:\n",
        "        search_results = sp.search(q='track:\"' + track_name + '\" artist:\"' + artist_name + '\"', type='track')['tracks']['items']\n",
        "        if search_results:\n",
        "            track_id = search_results[0]['id']\n",
        "            song = genius.search_song(track_name, artist_name)\n",
        "            return song.lyrics if song else \"Letra não encontrada\"\n",
        "        else:\n",
        "            return \"Letra não encontrada\"\n",
        "    except IndexError:\n",
        "        return \"Letra não encontrada\""
      ],
      "metadata": {
        "id": "PI13zC_6rYee"
      },
      "execution_count": 10,
      "outputs": []
    },
    {
      "cell_type": "code",
      "source": [
        "model = BertForSequenceClassification.from_pretrained(\"nlptown/bert-base-multilingual-uncased-sentiment\")\n",
        "tokenizer = BertTokenizer.from_pretrained(\"nlptown/bert-base-multilingual-uncased-sentiment\")"
      ],
      "metadata": {
        "id": "StTaI-5ureg2"
      },
      "execution_count": 15,
      "outputs": []
    },
    {
      "cell_type": "code",
      "source": [
        "def classify_sentiment(text):\n",
        "    inputs = tokenizer(lyrics, return_tensors=\"pt\", max_length=512, truncation=True)\n",
        "    outputs = model(**inputs)\n",
        "    predicted_class = torch.argmax(outputs.logits).item()\n",
        "    return predicted_class"
      ],
      "metadata": {
        "id": "ecTDACMIrhi2"
      },
      "execution_count": 6,
      "outputs": []
    },
    {
      "cell_type": "code",
      "source": [
        "while True:\n",
        "    track_name = input(\"Digite o nome da música (ou 'exit' para sair): \")\n",
        "    if track_name.lower() == 'exit':\n",
        "        break\n",
        "    artist_name = input(\"Digite o nome do artista: \")\n",
        "\n",
        "    lyrics = get_lyrics(artist_name, track_name)\n",
        "\n",
        "    if lyrics != \"Letra não encontrada\":\n",
        "        sentiment_class = classify_sentiment(lyrics)\n",
        "        sentiment_label = {\n",
        "            0: 'Muito negativo',\n",
        "            1: 'Negativo',\n",
        "            2: 'Neutro',\n",
        "            3: 'Positivo',\n",
        "            4: 'Muito positivo'\n",
        "        }\n",
        "        sentiment = sentiment_label.get(sentiment_class, 'Indeterminado')\n",
        "    else:\n",
        "        sentiment = \"Letra não encontrada\"\n",
        "\n",
        "    print(f'\\nSentimento da música \"{track_name}\" de \"{artist_name}\": {sentiment}\\n')\n",
        "    if lyrics != \"Letra não encontrada\":\n",
        "        print(\"\\nLetra da música:\\n\")\n",
        "        print(lyrics)"
      ],
      "metadata": {
        "colab": {
          "base_uri": "https://localhost:8080/"
        },
        "id": "uAcCAnFbrsdV",
        "outputId": "e635117b-b3d7-40ff-8bc9-67a11143de8d"
      },
      "execution_count": 17,
      "outputs": [
        {
          "name": "stdout",
          "output_type": "stream",
          "text": [
            "Digite o nome da música (ou 'exit' para sair): Live Forever\n",
            "Digite o nome do artista: Oasis\n",
            "Searching for \"Live Forever\" by Oasis...\n",
            "Done.\n",
            "\n",
            "Sentimento da música \"Live Forever\" de \"Oasis\": Muito positivo\n",
            "\n",
            "\n",
            "Letra da música:\n",
            "\n",
            "45 ContributorsLive Forever Lyrics[Intro]\n",
            "Oh yeah\n",
            "\n",
            "[Verse 1]\n",
            "Maybe I don't really wanna know\n",
            "How your garden grows\n",
            "'Cause I just wanna fly\n",
            "Lately, did you ever feel the pain\n",
            "In the morning rain\n",
            "As it soaks you to the bone?\n",
            "\n",
            "[Chorus 1]\n",
            "Maybe I just wanna fly\n",
            "Wanna live, I don't wanna die\n",
            "Maybe I just wanna breathe\n",
            "Maybe I just don't believe\n",
            "Maybe you're the same as me\n",
            "We see things they'll never see\n",
            "You and I are gonna live forever\n",
            "\n",
            "[Verse 2]\n",
            "I said maybe I don't really wanna know\n",
            "How your garden grows\n",
            "'Cause I just wanna fly\n",
            "Lately, did you ever feel the pain\n",
            "In the morning rain\n",
            "As it soaks you to the bone?\n",
            "You might also like[Chorus 2]\n",
            "Maybe I will never be\n",
            "All the things that I wanna be\n",
            "Now is not the time to cry\n",
            "Now's the time to find out why\n",
            "I think you're the same as me\n",
            "We see things they'll never see\n",
            "You and I are gonna live forever\n",
            "\n",
            "[Guitar Solo]\n",
            "\n",
            "[Verse 1]\n",
            "Maybe I don't really wanna know\n",
            "How your garden grows\n",
            "'Cause I just wanna fly\n",
            "Lately, did you ever feel the pain\n",
            "In the morning rain\n",
            "As it soaks you to the bone\n",
            "\n",
            "[Chorus 1]\n",
            "Maybe I just wanna fly\n",
            "Wanna live, I don't wanna die\n",
            "Maybe I just wanna breathe\n",
            "Maybe I just don't believe\n",
            "Maybe you're the same as me\n",
            "We see things they'll never see\n",
            "You and I are gonna live forever\n",
            "[Outro]\n",
            "Gonna live forever\n",
            "Gonna live forever\n",
            "We're gonna live forever\n",
            "We're gonna live forever\n",
            "We're gonna live forever\n",
            "We're gonna live forever46Embed\n",
            "Digite o nome da música (ou 'exit' para sair): exit\n"
          ]
        }
      ]
    }
  ]
}